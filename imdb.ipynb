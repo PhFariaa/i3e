{
 "cells": [
  {
   "cell_type": "code",
   "execution_count": 8,
   "metadata": {},
   "outputs": [],
   "source": [
    "import pandas as pd\n",
    "import numpy as np\n",
    "import matplotlib.pyplot as plt\n",
    "import time\n",
    "\n",
    "imdb_df = pd.read_csv(\"imdb_clean.csv\")\n",
    "\n",
    "imdb_df.columns = [\"titulo\", \"ano de lancamento\", \"duracao\", \"genero\", \"notas\", \"Money(M)\"]\n",
    "display(imdb_df.head())"
   ]
  },
  {
   "cell_type": "code",
   "execution_count": 1,
   "metadata": {},
   "outputs": [
    {
     "ename": "ModuleNotFoundError",
     "evalue": "No module named 'scipy'",
     "output_type": "error",
     "traceback": [
      "\u001b[1;31m---------------------------------------------------------------------------\u001b[0m",
      "\u001b[1;31mModuleNotFoundError\u001b[0m                       Traceback (most recent call last)",
      "Cell \u001b[1;32mIn[1], line 6\u001b[0m\n\u001b[0;32m      4\u001b[0m \u001b[39m# Exemplo usando uma coluna de um DataFrame\u001b[39;00m\n\u001b[0;32m      5\u001b[0m df \u001b[39m=\u001b[39m pd\u001b[39m.\u001b[39mDataFrame({\u001b[39m'\u001b[39m\u001b[39mnota\u001b[39m\u001b[39m'\u001b[39m: [\u001b[39m7\u001b[39m, \u001b[39m8\u001b[39m, \u001b[39m6\u001b[39m, \u001b[39m9\u001b[39m, \u001b[39m7\u001b[39m, \u001b[39m8\u001b[39m, \u001b[39m5\u001b[39m, \u001b[39m9\u001b[39m, \u001b[39m8\u001b[39m, \u001b[39m7\u001b[39m]})\n\u001b[1;32m----> 6\u001b[0m df[\u001b[39m'\u001b[39;49m\u001b[39mnota\u001b[39;49m\u001b[39m'\u001b[39;49m]\u001b[39m.\u001b[39;49mplot\u001b[39m.\u001b[39;49mkde()\n\u001b[0;32m      7\u001b[0m plt\u001b[39m.\u001b[39mxlabel(\u001b[39m'\u001b[39m\u001b[39mNota\u001b[39m\u001b[39m'\u001b[39m)\n\u001b[0;32m      8\u001b[0m plt\u001b[39m.\u001b[39mylabel(\u001b[39m'\u001b[39m\u001b[39mDensidade\u001b[39m\u001b[39m'\u001b[39m)\n",
      "File \u001b[1;32mc:\\Users\\pedri\\OneDrive\\Área de Trabalho\\programação\\i3e\\i3e\\i3ecis\\Lib\\site-packages\\pandas\\plotting\\_core.py:1459\u001b[0m, in \u001b[0;36mPlotAccessor.kde\u001b[1;34m(self, bw_method, ind, **kwargs)\u001b[0m\n\u001b[0;32m   1353\u001b[0m \u001b[39mdef\u001b[39;00m \u001b[39mkde\u001b[39m(\u001b[39mself\u001b[39m, bw_method\u001b[39m=\u001b[39m\u001b[39mNone\u001b[39;00m, ind\u001b[39m=\u001b[39m\u001b[39mNone\u001b[39;00m, \u001b[39m*\u001b[39m\u001b[39m*\u001b[39mkwargs) \u001b[39m-\u001b[39m\u001b[39m>\u001b[39m PlotAccessor:\n\u001b[0;32m   1354\u001b[0m \u001b[39m    \u001b[39m\u001b[39m\"\"\"\u001b[39;00m\n\u001b[0;32m   1355\u001b[0m \u001b[39m    Generate Kernel Density Estimate plot using Gaussian kernels.\u001b[39;00m\n\u001b[0;32m   1356\u001b[0m \n\u001b[1;32m   (...)\u001b[0m\n\u001b[0;32m   1457\u001b[0m \u001b[39m        >>> ax = df.plot.kde(ind=[1, 2, 3, 4, 5, 6])\u001b[39;00m\n\u001b[0;32m   1458\u001b[0m \u001b[39m    \"\"\"\u001b[39;00m\n\u001b[1;32m-> 1459\u001b[0m     \u001b[39mreturn\u001b[39;00m \u001b[39mself\u001b[39;49m(kind\u001b[39m=\u001b[39;49m\u001b[39m\"\u001b[39;49m\u001b[39mkde\u001b[39;49m\u001b[39m\"\u001b[39;49m, bw_method\u001b[39m=\u001b[39;49mbw_method, ind\u001b[39m=\u001b[39;49mind, \u001b[39m*\u001b[39;49m\u001b[39m*\u001b[39;49mkwargs)\n",
      "File \u001b[1;32mc:\\Users\\pedri\\OneDrive\\Área de Trabalho\\programação\\i3e\\i3e\\i3ecis\\Lib\\site-packages\\pandas\\plotting\\_core.py:975\u001b[0m, in \u001b[0;36mPlotAccessor.__call__\u001b[1;34m(self, *args, **kwargs)\u001b[0m\n\u001b[0;32m    972\u001b[0m             label_name \u001b[39m=\u001b[39m label_kw \u001b[39mor\u001b[39;00m data\u001b[39m.\u001b[39mcolumns\n\u001b[0;32m    973\u001b[0m             data\u001b[39m.\u001b[39mcolumns \u001b[39m=\u001b[39m label_name\n\u001b[1;32m--> 975\u001b[0m \u001b[39mreturn\u001b[39;00m plot_backend\u001b[39m.\u001b[39;49mplot(data, kind\u001b[39m=\u001b[39;49mkind, \u001b[39m*\u001b[39;49m\u001b[39m*\u001b[39;49mkwargs)\n",
      "File \u001b[1;32mc:\\Users\\pedri\\OneDrive\\Área de Trabalho\\programação\\i3e\\i3e\\i3ecis\\Lib\\site-packages\\pandas\\plotting\\_matplotlib\\__init__.py:71\u001b[0m, in \u001b[0;36mplot\u001b[1;34m(data, kind, **kwargs)\u001b[0m\n\u001b[0;32m     69\u001b[0m         kwargs[\u001b[39m\"\u001b[39m\u001b[39max\u001b[39m\u001b[39m\"\u001b[39m] \u001b[39m=\u001b[39m \u001b[39mgetattr\u001b[39m(ax, \u001b[39m\"\u001b[39m\u001b[39mleft_ax\u001b[39m\u001b[39m\"\u001b[39m, ax)\n\u001b[0;32m     70\u001b[0m plot_obj \u001b[39m=\u001b[39m PLOT_CLASSES[kind](data, \u001b[39m*\u001b[39m\u001b[39m*\u001b[39mkwargs)\n\u001b[1;32m---> 71\u001b[0m plot_obj\u001b[39m.\u001b[39;49mgenerate()\n\u001b[0;32m     72\u001b[0m plot_obj\u001b[39m.\u001b[39mdraw()\n\u001b[0;32m     73\u001b[0m \u001b[39mreturn\u001b[39;00m plot_obj\u001b[39m.\u001b[39mresult\n",
      "File \u001b[1;32mc:\\Users\\pedri\\OneDrive\\Área de Trabalho\\programação\\i3e\\i3e\\i3ecis\\Lib\\site-packages\\pandas\\plotting\\_matplotlib\\core.py:448\u001b[0m, in \u001b[0;36mMPLPlot.generate\u001b[1;34m(self)\u001b[0m\n\u001b[0;32m    446\u001b[0m \u001b[39mself\u001b[39m\u001b[39m.\u001b[39m_compute_plot_data()\n\u001b[0;32m    447\u001b[0m \u001b[39mself\u001b[39m\u001b[39m.\u001b[39m_setup_subplots()\n\u001b[1;32m--> 448\u001b[0m \u001b[39mself\u001b[39;49m\u001b[39m.\u001b[39;49m_make_plot()\n\u001b[0;32m    449\u001b[0m \u001b[39mself\u001b[39m\u001b[39m.\u001b[39m_add_table()\n\u001b[0;32m    450\u001b[0m \u001b[39mself\u001b[39m\u001b[39m.\u001b[39m_make_legend()\n",
      "File \u001b[1;32mc:\\Users\\pedri\\OneDrive\\Área de Trabalho\\programação\\i3e\\i3e\\i3ecis\\Lib\\site-packages\\pandas\\plotting\\_matplotlib\\hist.py:167\u001b[0m, in \u001b[0;36mHistPlot._make_plot\u001b[1;34m(self)\u001b[0m\n\u001b[0;32m    163\u001b[0m     kwds[\u001b[39m\"\u001b[39m\u001b[39mweights\u001b[39m\u001b[39m\"\u001b[39m] \u001b[39m=\u001b[39m weights\n\u001b[0;32m    165\u001b[0m y \u001b[39m=\u001b[39m reformat_hist_y_given_by(y, \u001b[39mself\u001b[39m\u001b[39m.\u001b[39mby)\n\u001b[1;32m--> 167\u001b[0m artists \u001b[39m=\u001b[39m \u001b[39mself\u001b[39;49m\u001b[39m.\u001b[39;49m_plot(ax, y, column_num\u001b[39m=\u001b[39;49mi, stacking_id\u001b[39m=\u001b[39;49mstacking_id, \u001b[39m*\u001b[39;49m\u001b[39m*\u001b[39;49mkwds)\n\u001b[0;32m    169\u001b[0m \u001b[39m# when by is applied, show title for subplots to know which group it is\u001b[39;00m\n\u001b[0;32m    170\u001b[0m \u001b[39mif\u001b[39;00m \u001b[39mself\u001b[39m\u001b[39m.\u001b[39mby \u001b[39mis\u001b[39;00m \u001b[39mnot\u001b[39;00m \u001b[39mNone\u001b[39;00m:\n",
      "File \u001b[1;32mc:\\Users\\pedri\\OneDrive\\Área de Trabalho\\programação\\i3e\\i3e\\i3ecis\\Lib\\site-packages\\pandas\\plotting\\_matplotlib\\hist.py:248\u001b[0m, in \u001b[0;36mKdePlot._plot\u001b[1;34m(cls, ax, y, style, bw_method, ind, column_num, stacking_id, **kwds)\u001b[0m\n\u001b[0;32m    236\u001b[0m \u001b[39m@classmethod\u001b[39m\n\u001b[0;32m    237\u001b[0m \u001b[39mdef\u001b[39;00m \u001b[39m_plot\u001b[39m(\n\u001b[0;32m    238\u001b[0m     \u001b[39mcls\u001b[39m,\n\u001b[1;32m   (...)\u001b[0m\n\u001b[0;32m    246\u001b[0m     \u001b[39m*\u001b[39m\u001b[39m*\u001b[39mkwds,\n\u001b[0;32m    247\u001b[0m ):\n\u001b[1;32m--> 248\u001b[0m     \u001b[39mfrom\u001b[39;00m \u001b[39mscipy\u001b[39;00m\u001b[39m.\u001b[39;00m\u001b[39mstats\u001b[39;00m \u001b[39mimport\u001b[39;00m gaussian_kde\n\u001b[0;32m    250\u001b[0m     y \u001b[39m=\u001b[39m remove_na_arraylike(y)\n\u001b[0;32m    251\u001b[0m     gkde \u001b[39m=\u001b[39m gaussian_kde(y, bw_method\u001b[39m=\u001b[39mbw_method)\n",
      "\u001b[1;31mModuleNotFoundError\u001b[0m: No module named 'scipy'"
     ]
    },
    {
     "data": {
      "image/png": "[encoded data removed]",
      "text/plain": [
       "<Figure size 640x480 with 1 Axes>"
      ]
     },
     "metadata": {},
     "output_type": "display_data"
    }
   ],
   "source": [
    "import pandas as pd\n",
    "import matplotlib.pyplot as plt\n",
    "\n",
    "# Exemplo usando uma coluna de um DataFrame\n",
    "df = pd.DataFrame({'nota': [7, 8, 6, 9, 7, 8, 5, 9, 8, 7]})\n",
    "df['nota'].plot.kde()\n",
    "plt.xlabel('Nota')\n",
    "plt.ylabel('Densidade')\n",
    "plt.title('Gráfico de Densidade da Nota')\n",
    "plt.show()\n"
   ]
  },
  {
   "cell_type": "code",
   "execution_count": null,
   "metadata": {},
   "outputs": [],
   "source": [
    "eixo_y = [8.06, 8.05, 7.99, 7.93, 7.92]\n",
    "eixo_x = ['western', 'war', 'crime', 'history', 'thriller']\n",
    "plt.bar(eixo_x, eixo_y)\n",
    "plt.axis(ymin = 7.9, ymax = 8.1)\n",
    "plt.ylabel('Notas de acordo com o IMDB')\n",
    "plt.xlabel('Generos')\n",
    "plt.title('Nota dos 5 generos melhores avaliados')\n",
    "plt.show()"
   ]
  },
  {
   "cell_type": "code",
   "execution_count": null,
   "metadata": {},
   "outputs": [],
   "source": [
    "eixo_y = [146.1, 132.8, 121.6, 119, 100.6]\n",
    "eixo_x = ['aventura', 'sci-fi', 'fantasia', 'acao', 'animacao']\n",
    "plt.bar(eixo_x, eixo_y)\n",
    "plt.ylabel('Dinheiro gasto em Milhoes')\n",
    "plt.xlabel('Generos')\n",
    "plt.title('Dinheiro gasto por genero de filme')\n",
    "plt.show()\n"
   ]
  },
  {
   "cell_type": "code",
   "execution_count": null,
   "metadata": {},
   "outputs": [],
   "source": [
    "with open('imdb_clean.csv', 'r') as arquivo:\n",
    "    linhas = arquivo.readlines()\n",
    "\n",
    "# Deletar a palavra em cada linha\n",
    "palavra_a_deletar = \"min\"  # Substitua \"palavra\" pela palavra que você deseja deletar\n",
    "\n",
    "linhas_modificadas = []\n",
    "for linha in linhas:\n",
    "    linha_modificada = linha.replace(palavra_a_deletar, '')\n",
    "    linhas_modificadas.append(linha_modificada)\n",
    "\n",
    "# Escrever as linhas modificadas de volta no arquivo\n",
    "with open('imdb_clean.csv', 'w') as arquivo:\n",
    "    arquivo.writelines(linhas_modificadas)"
   ]
  },
  {
   "cell_type": "code",
   "execution_count": null,
   "metadata": {},
   "outputs": [],
   "source": [
    "imdb_df = pd.read_csv(\"imdb_clean.csv\")\n",
    "display(imdb_df.head())\n",
    "imdb_df.columns = [\"titulo\", \"ano de lancamento\", \"duracao\", \"genero\", \"notas\", \"Money(M)\"]\n",
    "display(imdb_df.head())"
   ]
  },
  {
   "cell_type": "code",
   "execution_count": null,
   "metadata": {},
   "outputs": [],
   "source": [
    "dataframe_dados_num = imdb_df.copy()\n",
    "dataframe_dados_num = dataframe_dados_num.drop('titulo', axis=1)\n",
    "dataframe_dados_num = dataframe_dados_num.drop('genero', axis=1)\n",
    "dataframe_dados_num = dataframe_dados_num.drop('ano de lancamento', axis=1)\n",
    "\n",
    "X = dataframe_dados_num.drop('notas', axis=1)\n",
    "y = imdb_df[\"notas\"]\n",
    "\n",
    "from sklearn.model_selection import train_test_split\n",
    "\n",
    "XTrain, XTeste, yTrain, yTest = train_test_split(X, y, test_size = 0.20)\n",
    "\n",
    "from sklearn.linear_model import LinearRegression\n",
    "regressor = LinearRegression()\n",
    "regressor.fit(XTrain, yTrain)\n",
    "y_pred = regressor.predict(XTeste)\n",
    "\n",
    "print(regressor.score(XTeste, yTest))"
   ]
  }
 ],
 "metadata": {
  "kernelspec": {
   "display_name": "i3ecis",
   "language": "python",
   "name": "python3"
  },
  "language_info": {
   "codemirror_mode": {
    "name": "ipython",
    "version": 3
   },
   "file_extension": ".py",
   "mimetype": "text/x-python",
   "name": "python",
   "nbconvert_exporter": "python",
   "pygments_lexer": "ipython3",
   "version": "3.11.4"
  },
  "orig_nbformat": 4
 },
 "nbformat": 4,
 "nbformat_minor": 2
}
