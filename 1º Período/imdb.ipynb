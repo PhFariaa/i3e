{
 "cells": [
  {
   "cell_type": "code",
   "execution_count": 8,
   "metadata": {},
   "outputs": [],
   "source": [
    "import pandas as pd\n",
    "import numpy as np\n",
    "import matplotlib.pyplot as plt\n",
    "import time\n",
    "\n",
    "imdb_df = pd.read_csv(\"imdb_clean.csv\")\n",
    "\n",
    "imdb_df.columns = [\"titulo\", \"ano de lancamento\", \"duracao\", \"genero\", \"notas\", \"Money(M)\"]\n",
    "display(imdb_df.head())"
   ]
  },
  {
   "cell_type": "code",
   "execution_count": null,
   "metadata": {},
   "outputs": [],
   "source": [
    "def calcula_media_por_genero(imdb_df, genero):\n",
    "    imdb_df_filter  = (imdb_df['genero'] ==genero) & (imdb_df['notas'])\n",
    "    return imdb_df.loc[imdb_df_filter, ['notas']].mean()\n",
    "    \n",
    "\n",
    "def calcula_media_por_dinheiro_gasto(imdb_df, genero):\n",
    "    imdb_df_filter  = (imdb_df['genero'] ==genero) & (imdb_df['Money(M)'])\n",
    "    return int(imdb_df.loc[imdb_df_filter, ['Money(M)']].mean())\n",
    "\n",
    "generos = imdb_df['genero'].str.split().explode().unique()\n",
    "\n",
    "media_notas_df = (imdb_df.groupby('genero')[['notas']].mean()) #media de notas de todos os generos\n",
    "print(media_notas_df)\n",
    "maior_media = media_notas_df.max()#maior media entre os generos\n",
    "\n",
    "media_dinheiro_gasto_df = (imdb_df.groupby('genero')[['Money(M)']].mean())\n",
    "    \n",
    "maior_gasto = media_dinheiro_gasto_df.max() #genero que mais gasta"
   ]
  },
  {
   "cell_type": "code",
   "execution_count": null,
   "metadata": {},
   "outputs": [],
   "source": [
    "eixo_y = [8.06, 8.05, 7.99, 7.93, 7.92]\n",
    "eixo_x = ['western', 'war', 'crime', 'history', 'thriller']\n",
    "plt.bar(eixo_x, eixo_y)\n",
    "plt.axis(ymin = 7.9, ymax = 8.1)\n",
    "plt.ylabel('Notas de acordo com o IMDB')\n",
    "plt.xlabel('Generos')\n",
    "plt.title('Nota dos 5 generos melhores avaliados')\n",
    "plt.show()"
   ]
  },
  {
   "cell_type": "code",
   "execution_count": null,
   "metadata": {},
   "outputs": [],
   "source": [
    "eixo_y = [146.1, 132.8, 121.6, 119, 100.6]\n",
    "eixo_x = ['aventura', 'sci-fi', 'fantasia', 'acao', 'animacao']\n",
    "plt.bar(eixo_x, eixo_y)\n",
    "plt.ylabel('Dinheiro gasto em Milhoes')\n",
    "plt.xlabel('Generos')\n",
    "plt.title('Dinheiro gasto por genero de filme')\n",
    "plt.show()\n"
   ]
  },
  {
   "cell_type": "code",
   "execution_count": null,
   "metadata": {},
   "outputs": [],
   "source": [
    "with open('imdb_clean.csv', 'r') as arquivo:\n",
    "    linhas = arquivo.readlines()\n",
    "\n",
    "# Deletar a palavra em cada linha\n",
    "palavra_a_deletar = \"min\"  # Substitua \"palavra\" pela palavra que você deseja deletar\n",
    "\n",
    "linhas_modificadas = []\n",
    "for linha in linhas:\n",
    "    linha_modificada = linha.replace(palavra_a_deletar, '')\n",
    "    linhas_modificadas.append(linha_modificada)\n",
    "\n",
    "# Escrever as linhas modificadas de volta no arquivo\n",
    "with open('imdb_clean.csv', 'w') as arquivo:\n",
    "    arquivo.writelines(linhas_modificadas)"
   ]
  },
  {
   "cell_type": "code",
   "execution_count": null,
   "metadata": {},
   "outputs": [],
   "source": [
    "imdb_df = pd.read_csv(\"imdb_clean.csv\")\n",
    "display(imdb_df.head())\n",
    "imdb_df.columns = [\"titulo\", \"ano de lancamento\", \"duracao\", \"genero\", \"notas\", \"Money(M)\"]\n",
    "display(imdb_df.head())"
   ]
  },
  {
   "cell_type": "code",
   "execution_count": null,
   "metadata": {},
   "outputs": [],
   "source": [
    "dataframe_dados_num = imdb_df.copy()\n",
    "dataframe_dados_num = dataframe_dados_num.drop('titulo', axis=1)\n",
    "dataframe_dados_num = dataframe_dados_num.drop('genero', axis=1)\n",
    "dataframe_dados_num = dataframe_dados_num.drop('ano de lancamento', axis=1)\n",
    "\n",
    "X = dataframe_dados_num.drop('notas', axis=1)\n",
    "y = imdb_df[\"notas\"]\n",
    "\n",
    "from sklearn.model_selection import train_test_split\n",
    "\n",
    "XTrain, XTeste, yTrain, yTest = train_test_split(X, y, test_size = 0.20)\n",
    "\n",
    "from sklearn.linear_model import LinearRegression\n",
    "regressor = LinearRegression()\n",
    "regressor.fit(XTrain, yTrain)\n",
    "y_pred = regressor.predict(XTeste)\n",
    "\n",
    "print(regressor.score(XTeste, yTest))"
   ]
  }
 ],
 "metadata": {
  "kernelspec": {
   "display_name": "i3ecis",
   "language": "python",
   "name": "python3"
  },
  "language_info": {
   "codemirror_mode": {
    "name": "ipython",
    "version": 3
   },
   "file_extension": ".py",
   "mimetype": "text/x-python",
   "name": "python",
   "nbconvert_exporter": "python",
   "pygments_lexer": "ipython3",
   "version": "3.11.4"
  },
  "orig_nbformat": 4
 },
 "nbformat": 4,
 "nbformat_minor": 2
}
